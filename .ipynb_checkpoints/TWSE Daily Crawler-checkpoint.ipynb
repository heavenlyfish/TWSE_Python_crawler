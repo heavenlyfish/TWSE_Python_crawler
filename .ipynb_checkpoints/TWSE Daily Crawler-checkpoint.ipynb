{
 "cells": [
  {
   "cell_type": "code",
   "execution_count": 1,
   "metadata": {},
   "outputs": [],
   "source": [
    "import requests\n",
    "import json\n",
    "import csv\n",
    "import time, datetime, os\n",
    "from bs4 import BeautifulSoup"
   ]
  },
  {
   "cell_type": "code",
   "execution_count": 2,
   "metadata": {},
   "outputs": [],
   "source": [
    "dt = datetime.datetime.now()\n",
    "dt.year\n",
    "dt.month\n",
    "id_list= ['2330','2884']\n",
    "now = datetime.datetime.now()\n",
    "#now.year\n",
    "year_list = range(2010,now.year+1) #from 2007 to this year\n",
    "month_list=range(1,13) # 12 Months"
   ]
  },
  {
   "cell_type": "code",
   "execution_count": 3,
   "metadata": {},
   "outputs": [],
   "source": [
    "#standard web crawing process\n",
    "def get_webmsg (year, month, stock_id):\n",
    "    date = str (year) + \"{0:0=2d}\".format(month) +'01' ## format is yyyymmdd\n",
    "    sid = str(stock_id)\n",
    "    url_twse = 'http://www.twse.com.tw/exchangeReport/STOCK_DAY?response=json&date='+date+'&stockNo='+sid\n",
    "    res =requests.post(url_twse)\n",
    "    soup = BeautifulSoup(res.text , 'html.parser')\n",
    "    smt = json.loads(soup.text)     #convert data into json\n",
    "    return smt\n",
    "\n",
    "def write_csv(stock_id,directory,filename,smt) :\n",
    "    writefile = directory + filename               #set output file name\n",
    "    outputFile = open(writefile,'w',newline='')\n",
    "    outputWriter = csv.writer(outputFile)\n",
    "    head = ''.join(smt['title'].split())\n",
    "    a = [head,\"\"]\n",
    "    outputWriter.writerow(a)\n",
    "    outputWriter.writerow(smt['fields'])\n",
    "    for data in (smt['data']):\n",
    "        outputWriter.writerow(data)\n",
    "\n",
    "    outputFile.close()\n",
    "    \n",
    "#create a directory in the current one doesn't exist\n",
    "def makedirs (year, month, stock_id):\n",
    "    sid = str(stock_id)\n",
    "    yy = str(year)\n",
    "    mm = str(month)\n",
    "    directory = 'D:/Stock_DB' + '/' +'daily'+ '/' + sid + '/' + yy\n",
    "    if not os.path.isdir(directory):\n",
    "        os.makedirs (directory)  # os.makedirs able to create multi folders"
   ]
  },
  {
   "cell_type": "code",
   "execution_count": 4,
   "metadata": {},
   "outputs": [
    {
     "name": "stdout",
     "output_type": "stream",
     "text": [
      "Done!\n"
     ]
    }
   ],
   "source": [
    "for stock_id in id_list:\n",
    "    for year in year_list:\n",
    "        for month in month_list: \n",
    "            if(dt.year == year and month > dt.month) :break # break loop if month over current month\n",
    "            sid = str(stock_id)\n",
    "            yy = str(year)\n",
    "            mm = month\n",
    "            directory = 'D:/Stock_DB' + '/' +'daily'+ '/' + sid + '/' + yy + '/'\n",
    "            filename = yy + str(\"%02d\"%mm) + '.csv'          # setting file name\n",
    "            if(os.path.isfile(directory + filename)) :break  # break loop if file exist\n",
    "            smt = get_webmsg(year ,month, stock_id)          # put the data into smt \n",
    "            makedirs (year, month, stock_id)                 # create directory function\n",
    "            write_csv (stock_id,directory, filename, smt)    # write files into CSV\n",
    "            time.sleep(4)\n",
    "        \n",
    "    \n",
    "print('Done!')"
   ]
  },
  {
   "cell_type": "code",
   "execution_count": 21,
   "metadata": {},
   "outputs": [
    {
     "ename": "KeyError",
     "evalue": "'fields'",
     "output_type": "error",
     "traceback": [
      "\u001b[1;31m---------------------------------------------------------------------------\u001b[0m",
      "\u001b[1;31mKeyError\u001b[0m                                  Traceback (most recent call last)",
      "\u001b[1;32m<ipython-input-21-7e23571ed530>\u001b[0m in \u001b[0;36m<module>\u001b[1;34m\u001b[0m\n\u001b[0;32m      1\u001b[0m \u001b[0msmt\u001b[0m \u001b[1;33m=\u001b[0m \u001b[0mget_webmsg\u001b[0m\u001b[1;33m(\u001b[0m\u001b[1;34m'2007'\u001b[0m \u001b[1;33m,\u001b[0m\u001b[1;36m1\u001b[0m\u001b[1;33m,\u001b[0m \u001b[1;34m'2330'\u001b[0m\u001b[1;33m)\u001b[0m\u001b[1;33m\u001b[0m\u001b[1;33m\u001b[0m\u001b[0m\n\u001b[0;32m      2\u001b[0m \u001b[1;31m#print(''.join(smt['title'].split()))\u001b[0m\u001b[1;33m\u001b[0m\u001b[1;33m\u001b[0m\u001b[1;33m\u001b[0m\u001b[0m\n\u001b[1;32m----> 3\u001b[1;33m \u001b[0mprint\u001b[0m\u001b[1;33m(\u001b[0m\u001b[0msmt\u001b[0m\u001b[1;33m[\u001b[0m\u001b[1;34m'fields'\u001b[0m\u001b[1;33m]\u001b[0m\u001b[1;33m)\u001b[0m\u001b[1;33m\u001b[0m\u001b[1;33m\u001b[0m\u001b[0m\n\u001b[0m\u001b[0;32m      4\u001b[0m \u001b[0mprint\u001b[0m\u001b[1;33m(\u001b[0m\u001b[0msmt\u001b[0m\u001b[1;33m[\u001b[0m\u001b[1;34m'data'\u001b[0m\u001b[1;33m]\u001b[0m\u001b[1;33m)\u001b[0m\u001b[1;33m\u001b[0m\u001b[1;33m\u001b[0m\u001b[0m\n",
      "\u001b[1;31mKeyError\u001b[0m: 'fields'"
     ]
    }
   ],
   "source": [
    "#test web crawler data\n",
    "smt = get_webmsg('2007' ,1, '2330')\n",
    "#print(''.join(smt['title'].split()))\n",
    "print(smt['fields'])\n",
    "print(smt['data'])"
   ]
  }
 ],
 "metadata": {
  "kernelspec": {
   "display_name": "Python 3",
   "language": "python",
   "name": "python3"
  },
  "language_info": {
   "codemirror_mode": {
    "name": "ipython",
    "version": 3
   },
   "file_extension": ".py",
   "mimetype": "text/x-python",
   "name": "python",
   "nbconvert_exporter": "python",
   "pygments_lexer": "ipython3",
   "version": "3.7.4"
  }
 },
 "nbformat": 4,
 "nbformat_minor": 2
}
